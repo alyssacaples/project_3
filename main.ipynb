{
 "cells": [
  {
   "cell_type": "code",
   "execution_count": 48,
   "metadata": {},
   "outputs": [],
   "source": [
    "import pandas as pd\n",
    "import json\n",
    "import ast"
   ]
  },
  {
   "cell_type": "code",
   "execution_count": 92,
   "metadata": {},
   "outputs": [
    {
     "name": "stdout",
     "output_type": "stream",
     "text": [
      "Index(['cast', 'crew', 'id'], dtype='object')\n",
      "0           862\n",
      "1          8844\n",
      "2         15602\n",
      "3         31357\n",
      "4         11862\n",
      "          ...  \n",
      "45461    439050\n",
      "45462    111109\n",
      "45463     67758\n",
      "45464    227506\n",
      "45465    461257\n",
      "Name: id, Length: 45466, dtype: object\n"
     ]
    },
    {
     "name": "stderr",
     "output_type": "stream",
     "text": [
      "C:\\Python38\\lib\\site-packages\\IPython\\core\\interactiveshell.py:3172: DtypeWarning: Columns (10) have mixed types.Specify dtype option on import or set low_memory=False.\n",
      "  has_raised = await self.run_ast_nodes(code_ast.body, cell_name,\n"
     ]
    }
   ],
   "source": [
    "df_actors = pd.read_csv('credits.csv')\n",
    "cast = df_actors['cast']\n",
    "print(df_actors.columns)\n",
    "\n",
    "df_movies = pd.read_csv('movies_metadata.csv')\n",
    "id = df_movies['id']\n",
    "print(id)"
   ]
  },
  {
   "cell_type": "code",
   "execution_count": 95,
   "metadata": {},
   "outputs": [],
   "source": [
    "actors = []\n",
    "for i in range(len(cast)):\n",
    "    movies = cast[i][1:-1].split(\"},\")\n",
    "    curr_id = id[i]\n",
    "    for x in movies:\n",
    "        word = x.split(',')\n",
    "        if(len(word) > 5):\n",
    "            #print(word[5])\n",
    "            if(word[5] not in actors):\n",
    "                name_arr = word[5].split()\n",
    "                if(name_arr[0] == \"'name':\"):\n",
    "                    combined_name = \" \".join(name_arr[1:])\n",
    "                    if(combined_name[1:-1] not in actors):\n",
    "                        actors.append(combined_name[1:-1] + \":\" + curr_id)\n",
    "                        #print(combined_name[1:-1] + \":\" + curr_id)\n",
    "\n",
    "\n",
    "print(len(actors))\n"
   ]
  },
  {
   "cell_type": "code",
   "execution_count": 86,
   "metadata": {},
   "outputs": [],
   "source": [
    "import csv\n",
    "\n",
    "with open('actors_id.csv', 'w') as file:\n",
    "    writer = csv.writer(file)\n",
    "    writer.writerows(actors)"
   ]
  },
  {
   "cell_type": "code",
   "execution_count": 85,
   "metadata": {},
   "outputs": [
    {
     "name": "stdout",
     "output_type": "stream",
     "text": [
      "201405\n"
     ]
    }
   ],
   "source": [
    "print(len(clean_actor_list))"
   ]
  }
 ],
 "metadata": {
  "interpreter": {
   "hash": "2db524e06e9f5f4ffedc911c917cb75e12dbc923643829bf417064a77eb14d37"
  },
  "kernelspec": {
   "display_name": "Python 3.8.3 64-bit",
   "language": "python",
   "name": "python3"
  },
  "language_info": {
   "codemirror_mode": {
    "name": "ipython",
    "version": 3
   },
   "file_extension": ".py",
   "mimetype": "text/x-python",
   "name": "python",
   "nbconvert_exporter": "python",
   "pygments_lexer": "ipython3",
   "version": "3.8.3"
  },
  "orig_nbformat": 4
 },
 "nbformat": 4,
 "nbformat_minor": 2
}
