{
 "cells": [
  {
   "cell_type": "code",
   "execution_count": 48,
   "metadata": {},
   "outputs": [],
   "source": [
    "import pandas as pd\n",
    "import json\n",
    "import ast"
   ]
  },
  {
   "cell_type": "code",
   "execution_count": 49,
   "metadata": {},
   "outputs": [
    {
     "name": "stdout",
     "output_type": "stream",
     "text": [
      "Index(['cast', 'crew', 'id'], dtype='object')\n"
     ]
    }
   ],
   "source": [
    "df_actors = pd.read_csv('credits.csv')\n",
    "cast = df_actors['cast']\n",
    "print(df_actors.columns)\n",
    "\n",
    "df_movies = pd.read_csv('')"
   ]
  },
  {
   "cell_type": "code",
   "execution_count": 73,
   "metadata": {},
   "outputs": [
    {
     "name": "stdout",
     "output_type": "stream",
     "text": [
      "{'cast_id': 14, 'character': 'Woody (voice)', 'credit_id': '52fe4284c3a36847f8024f95', 'gender': 2, 'id': 31, 'name': 'Tom Hanks', 'order': 0, 'profile_path': '/pQFoyx7rp09CJTAb932F2g8Nlho.jpg'\n",
      " 'name': 'Tom Hanks'\n",
      "206790\n"
     ]
    }
   ],
   "source": [
    "actors = []\n",
    "for movies in cast:\n",
    "    movies = movies[1:-1].split(\"},\")\n",
    "\n",
    "    for x in movies:\n",
    "        word = x.split(',')\n",
    "        if(len(word) > 5):\n",
    "            #print(word[5])\n",
    "            if(word[5] not in actors):\n",
    "                actors.append(word[5])\n",
    "\n",
    "\n",
    "print(len(actors))"
   ]
  },
  {
   "cell_type": "code",
   "execution_count": 86,
   "metadata": {},
   "outputs": [],
   "source": [
    "clean_actor_list = []\n",
    "for a in actors:\n",
    "    name_arr = a.split()\n",
    "    #print(name_arr)\n",
    "    if(name_arr[0] == \"'name':\"):\n",
    "        #print(name_arr[1:])\n",
    "        combined_name = \" \".join(name_arr[1:])\n",
    "        if(combined_name[1:-1] not in clean_actor_list):\n",
    "            clean_actor_list.append(combined_name[1:-1])"
   ]
  },
  {
   "cell_type": "code",
   "execution_count": 85,
   "metadata": {},
   "outputs": [
    {
     "name": "stdout",
     "output_type": "stream",
     "text": [
      "201405\n"
     ]
    }
   ],
   "source": [
    "print(len(clean_actor_list))"
   ]
  }
 ],
 "metadata": {
  "interpreter": {
   "hash": "2db524e06e9f5f4ffedc911c917cb75e12dbc923643829bf417064a77eb14d37"
  },
  "kernelspec": {
   "display_name": "Python 3.8.3 64-bit",
   "language": "python",
   "name": "python3"
  },
  "language_info": {
   "codemirror_mode": {
    "name": "ipython",
    "version": 3
   },
   "file_extension": ".py",
   "mimetype": "text/x-python",
   "name": "python",
   "nbconvert_exporter": "python",
   "pygments_lexer": "ipython3",
   "version": "3.8.3"
  },
  "orig_nbformat": 4
 },
 "nbformat": 4,
 "nbformat_minor": 2
}
