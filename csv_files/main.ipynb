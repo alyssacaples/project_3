{
 "cells": [
  {
   "cell_type": "code",
   "execution_count": 1,
   "metadata": {},
   "outputs": [],
   "source": [
    "import pandas as pd"
   ]
  },
  {
   "cell_type": "code",
   "execution_count": 2,
   "metadata": {},
   "outputs": [
    {
     "name": "stdout",
     "output_type": "stream",
     "text": [
      "0           862\n",
      "1          8844\n",
      "2         15602\n",
      "3         31357\n",
      "4         11862\n",
      "          ...  \n",
      "45471    439050\n",
      "45472    111109\n",
      "45473     67758\n",
      "45474    227506\n",
      "45475    461257\n",
      "Name: id, Length: 45476, dtype: int64\n"
     ]
    }
   ],
   "source": [
    "df_actors = pd.read_csv('credits.csv')\n",
    "cast = df_actors['cast']\n",
    "id = df_actors['id']\n",
    "print(id)"
   ]
  },
  {
   "cell_type": "code",
   "execution_count": 3,
   "metadata": {},
   "outputs": [],
   "source": [
    "# construct a mapping of movie ids to list of participating actor ids\n",
    "movies = {}\n",
    "seenActors = set({}) # for counting number of actors\n",
    "for i in range(len(cast)):\n",
    "    actors = {}\n",
    "    castMembers = cast[i][1:-1].split(\"},\")\n",
    "    movieID = str(id[i])\n",
    "    for castMember in castMembers:\n",
    "        actorInfo = {}\n",
    "        fields = castMember.split(',')\n",
    "        for field in fields:\n",
    "            field_arr = field.split()\n",
    "            if (len(field_arr) > 0):\n",
    "                if (field_arr[0] == \"'id':\"):\n",
    "                    actorInfo['id'] = field_arr[1]\n",
    "                if (field_arr[0] == \"'name':\"):\n",
    "                    actorInfo['name'] = \" \".join(field_arr[1:])[1:-1]\n",
    "        if 'id' in actorInfo:\n",
    "            actors[actorInfo['id']] = actorInfo['name']\n",
    "            seenActors.add(actors[actorInfo['id']])\n",
    "    movies[movieID] = actors\n",
    "                "
   ]
  },
  {
   "cell_type": "code",
   "execution_count": 4,
   "metadata": {},
   "outputs": [
    {
     "name": "stderr",
     "output_type": "stream",
     "text": [
      "C:\\Users\\jacks\\anaconda3\\lib\\site-packages\\IPython\\core\\interactiveshell.py:3165: DtypeWarning: Columns (10) have mixed types.Specify dtype option on import or set low_memory=False.\n",
      "  has_raised = await self.run_ast_nodes(code_ast.body, cell_name,\n"
     ]
    }
   ],
   "source": [
    "# construct a mapping of movie ids to titles\n",
    "df_movies = pd.read_csv('movies_metadata.csv')\n",
    "title = df_movies['title']\n",
    "id = df_movies['id']\n",
    "movieTitles = {}\n",
    "for i in range(len(title)):\n",
    "    movieTitles[id[i]] = title[i]"
   ]
  },
  {
   "cell_type": "code",
   "execution_count": 5,
   "metadata": {},
   "outputs": [],
   "source": [
    "rows = []\n",
    "for movieID in movies:\n",
    "    actorDict = movies[movieID]\n",
    "    row = ['{id: ' + movieID + ', title: ']\n",
    "    actors = []\n",
    "    for id in actorDict:\n",
    "        actors.append('{id: '+id+', '+'name: '+'<'+actorDict[id]+\">}\")\n",
    "    if movieID in movieTitles:\n",
    "        row[0] = row[0] + '<' + str(movieTitles[movieID]) + '>}'\n",
    "    else:\n",
    "        row.append(\"<>}\")    \n",
    "    row.append('['+','.join(actors)+']')\n",
    "    rows.append(row)"
   ]
  },
  {
   "cell_type": "code",
   "execution_count": 6,
   "metadata": {},
   "outputs": [],
   "source": [
    "import csv\n",
    "\n",
    "with open('movies_id.csv', 'w', encoding='utf-8', newline='') as file:\n",
    "    writer = csv.writer(file)\n",
    "    writer.writerows(rows)"
   ]
  },
  {
   "cell_type": "code",
   "execution_count": 7,
   "metadata": {},
   "outputs": [
    {
     "name": "stdout",
     "output_type": "stream",
     "text": [
      "202747\n"
     ]
    }
   ],
   "source": [
    "print(len(seenActors))"
   ]
  }
 ],
 "metadata": {
  "interpreter": {
   "hash": "2db524e06e9f5f4ffedc911c917cb75e12dbc923643829bf417064a77eb14d37"
  },
  "kernelspec": {
   "display_name": "Python 3.8.3 64-bit",
   "language": "python",
   "name": "python3"
  },
  "language_info": {
   "codemirror_mode": {
    "name": "ipython",
    "version": 3
   },
   "file_extension": ".py",
   "mimetype": "text/x-python",
   "name": "python",
   "nbconvert_exporter": "python",
   "pygments_lexer": "ipython3",
   "version": "3.8.8"
  },
  "orig_nbformat": 4
 },
 "nbformat": 4,
 "nbformat_minor": 2
}
